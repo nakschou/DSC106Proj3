{
 "cells": [
  {
   "cell_type": "code",
   "execution_count": 1,
   "metadata": {},
   "outputs": [],
   "source": [
    "import pandas as pd"
   ]
  },
  {
   "cell_type": "code",
   "execution_count": 2,
   "metadata": {},
   "outputs": [],
   "source": [
    "yc_data = pd.read_csv('yc_companies.csv')"
   ]
  },
  {
   "cell_type": "code",
   "execution_count": 3,
   "metadata": {},
   "outputs": [
    {
     "data": {
      "text/plain": [
       "array(['Other SaaS', 'Entertainment', nan, 'Fintech', 'Consumer',\n",
       "       'Industrial', 'Dev Tools', 'Real Estate', 'Healthcare',\n",
       "       'Education', 'Agriculture', 'Transport', 'Aerospace', 'Nonprofit',\n",
       "       'Resources', 'Government'], dtype=object)"
      ]
     },
     "execution_count": 3,
     "metadata": {},
     "output_type": "execute_result"
    }
   ],
   "source": [
    "yc_data[\"Category\"].unique()"
   ]
  },
  {
   "cell_type": "code",
   "execution_count": 4,
   "metadata": {},
   "outputs": [
    {
     "data": {
      "text/html": [
       "<div>\n",
       "<style scoped>\n",
       "    .dataframe tbody tr th:only-of-type {\n",
       "        vertical-align: middle;\n",
       "    }\n",
       "\n",
       "    .dataframe tbody tr th {\n",
       "        vertical-align: top;\n",
       "    }\n",
       "\n",
       "    .dataframe thead th {\n",
       "        text-align: right;\n",
       "    }\n",
       "</style>\n",
       "<table border=\"1\" class=\"dataframe\">\n",
       "  <thead>\n",
       "    <tr style=\"text-align: right;\">\n",
       "      <th></th>\n",
       "      <th>Company Name</th>\n",
       "      <th>Batch</th>\n",
       "      <th>Batch Number</th>\n",
       "    </tr>\n",
       "  </thead>\n",
       "  <tbody>\n",
       "    <tr>\n",
       "      <th>0</th>\n",
       "      <td>Clickfacts</td>\n",
       "      <td>S05</td>\n",
       "      <td>0</td>\n",
       "    </tr>\n",
       "    <tr>\n",
       "      <th>1</th>\n",
       "      <td>Infogami</td>\n",
       "      <td>S05</td>\n",
       "      <td>0</td>\n",
       "    </tr>\n",
       "    <tr>\n",
       "      <th>2</th>\n",
       "      <td>Kiko</td>\n",
       "      <td>S05</td>\n",
       "      <td>0</td>\n",
       "    </tr>\n",
       "    <tr>\n",
       "      <th>3</th>\n",
       "      <td>Loopt</td>\n",
       "      <td>S05</td>\n",
       "      <td>0</td>\n",
       "    </tr>\n",
       "    <tr>\n",
       "      <th>4</th>\n",
       "      <td>Memamp</td>\n",
       "      <td>S05</td>\n",
       "      <td>0</td>\n",
       "    </tr>\n",
       "  </tbody>\n",
       "</table>\n",
       "</div>"
      ],
      "text/plain": [
       "  Company Name Batch  Batch Number\n",
       "0   Clickfacts   S05             0\n",
       "1     Infogami   S05             0\n",
       "2         Kiko   S05             0\n",
       "3        Loopt   S05             0\n",
       "4       Memamp   S05             0"
      ]
     },
     "execution_count": 4,
     "metadata": {},
     "output_type": "execute_result"
    }
   ],
   "source": [
    "# Extract batch identifiers from the DataFrame\n",
    "batches = yc_data['Batch'].unique()\n",
    "\n",
    "# Sort batches first by year then by season (W before S)\n",
    "batches_sorted = sorted(batches, key=lambda x: (int(x[1:]), x[0]))\n",
    "\n",
    "# Create a mapping of batch to an ordered number\n",
    "batch_to_number = {batch: i for i, batch in enumerate(batches_sorted)}\n",
    "\n",
    "# Apply the mapping to the DataFrame\n",
    "yc_data['Batch Number'] = yc_data['Batch'].map(batch_to_number)\n",
    "\n",
    "# Display the first few rows to confirm the conversion\n",
    "yc_data[['Company Name', 'Batch', 'Batch Number']].head()"
   ]
  },
  {
   "cell_type": "code",
   "execution_count": 5,
   "metadata": {},
   "outputs": [],
   "source": [
    "yc_data.to_json('yc_data.json', orient='records')"
   ]
  },
  {
   "cell_type": "code",
   "execution_count": null,
   "metadata": {},
   "outputs": [],
   "source": []
  }
 ],
 "metadata": {
  "kernelspec": {
   "display_name": "cse151a",
   "language": "python",
   "name": "python3"
  },
  "language_info": {
   "codemirror_mode": {
    "name": "ipython",
    "version": 3
   },
   "file_extension": ".py",
   "mimetype": "text/x-python",
   "name": "python",
   "nbconvert_exporter": "python",
   "pygments_lexer": "ipython3",
   "version": "3.8.18"
  }
 },
 "nbformat": 4,
 "nbformat_minor": 2
}
